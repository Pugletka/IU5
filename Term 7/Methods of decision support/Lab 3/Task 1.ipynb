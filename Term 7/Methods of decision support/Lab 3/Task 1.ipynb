{
 "cells": [
  {
   "cell_type": "code",
   "execution_count": 1,
   "metadata": {},
   "outputs": [
    {
     "name": "stdout",
     "output_type": "stream",
     "text": [
      "3.0\n",
      "36\n"
     ]
    }
   ],
   "source": [
    "import tensorflow as tf\n",
    "\n",
    "# Сохраняем граф по умолчанию\n",
    "default_graph = tf.get_default_graph()\n",
    "\n",
    "# Объявляем константы\n",
    "a = tf.constant(1.0)\n",
    "b = tf.constant(2.0)\n",
    "\n",
    "y = tf.add(a,b)\n",
    "\n",
    "# Для вычисления графа необходимо открыть сессию\n",
    "with tf.Session() as session:\n",
    "    print(y.eval())\n",
    "    \n",
    "second_graph = tf.Graph() # создаём второй граф\n",
    "\n",
    "with second_graph.as_default(): # создаем константы для второго графа\n",
    "    a2 = tf.constant(2)\n",
    "    b2 = tf.constant(3)\n",
    "    c2 = tf.multiply(a2,b2)\n",
    "    y2 = tf.pow(c2,2)\n",
    "    \n",
    "with tf.Session(graph = second_graph) as session: # открываем и выполняем сессию для второго графа\n",
    "    print(y2.eval())"
   ]
  },
  {
   "cell_type": "code",
   "execution_count": null,
   "metadata": {},
   "outputs": [],
   "source": []
  }
 ],
 "metadata": {
  "kernelspec": {
   "display_name": "Python 3",
   "language": "python",
   "name": "python3"
  },
  "language_info": {
   "codemirror_mode": {
    "name": "ipython",
    "version": 3
   },
   "file_extension": ".py",
   "mimetype": "text/x-python",
   "name": "python",
   "nbconvert_exporter": "python",
   "pygments_lexer": "ipython3",
   "version": "3.7.0"
  }
 },
 "nbformat": 4,
 "nbformat_minor": 2
}
