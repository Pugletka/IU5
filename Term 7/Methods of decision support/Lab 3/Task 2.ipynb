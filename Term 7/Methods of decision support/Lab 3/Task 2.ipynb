{
 "cells": [
  {
   "cell_type": "code",
   "execution_count": 1,
   "metadata": {},
   "outputs": [
    {
     "name": "stdout",
     "output_type": "stream",
     "text": [
      "Extracting tmp/data/train-images-idx3-ubyte.gz\n",
      "Extracting tmp/data/train-labels-idx1-ubyte.gz\n",
      "Extracting tmp/data/t10k-images-idx3-ubyte.gz\n",
      "Extracting tmp/data/t10k-labels-idx1-ubyte.gz\n",
      "Accuracy: 96.44%\n"
     ]
    }
   ],
   "source": [
    "import tensorflow as tf\n",
    "from tensorflow.examples.tutorials.mnist import input_data\n",
    "\n",
    "DATA_DIR = 'tmp/data' \n",
    "NUM_STEPS = 1000 \n",
    "MINIBATCH_SIZE = 100 \n",
    "LEARNING_RATE = 0.5\n",
    "\n",
    "# Layers sizes \n",
    "L1 = 200\n",
    "L2 = 100\n",
    "L3 = 60\n",
    "L4 = 30\n",
    "L5 = 10\n",
    "\n",
    "data = input_data.read_data_sets(DATA_DIR , one_hot=True)\n",
    "\n",
    "x = tf.placeholder(tf.float32, [None, 784])\n",
    "l1 = tf.layers.dense(x,L1,activation=tf.nn.relu,use_bias=True)\n",
    "l2 = tf.layers.dense(l1,L2,activation=tf.nn.relu,use_bias=True) \n",
    "l3 = tf.layers.dense(l2,L3,activation=tf.nn.relu,use_bias=True) \n",
    "l4 = tf.layers.dense(l3,L4,activation=tf.nn.relu,use_bias=True) \n",
    "y_pred = tf.layers.dense(l4,L5,activation=tf.nn.relu,use_bias=True)\n",
    "\n",
    "y_true = tf.placeholder(tf.float32, [None, 10])\n",
    "\n",
    "cross_entropy = tf.reduce_mean(tf.nn.softmax_cross_entropy_with_logits( logits=y_pred, labels=y_true))\n",
    "gd_step = tf.train.GradientDescentOptimizer(LEARNING_RATE).minimize(cross_entropy) \n",
    "correct_mask = tf.equal(tf.argmax(y_pred , 1), tf.argmax(y_true , 1))\n",
    "accuracy = tf.reduce_mean(tf.cast(correct_mask , tf.float32))\n",
    "\n",
    "with tf.Session() as sess: \n",
    "    # Train\n",
    "    sess.run(tf.global_variables_initializer()) \n",
    "    for i in range(NUM_STEPS):\n",
    "        batch_x , batch_y = data.train.next_batch(MINIBATCH_SIZE)\n",
    "        sess.run(gd_step, feed_dict={x:batch_x,y_true:batch_y}) \n",
    "    ans = sess.run(accuracy, feed_dict={x: data.test.images, y_true: data.test.labels})\n",
    "    \n",
    "print(\"Accuracy: {:.4}%\".format(ans*100))"
   ]
  },
  {
   "cell_type": "code",
   "execution_count": null,
   "metadata": {},
   "outputs": [],
   "source": []
  },
  {
   "cell_type": "code",
   "execution_count": null,
   "metadata": {},
   "outputs": [],
   "source": []
  },
  {
   "cell_type": "code",
   "execution_count": null,
   "metadata": {},
   "outputs": [],
   "source": []
  },
  {
   "cell_type": "code",
   "execution_count": null,
   "metadata": {},
   "outputs": [],
   "source": []
  }
 ],
 "metadata": {
  "kernelspec": {
   "display_name": "Python 3",
   "language": "python",
   "name": "python3"
  },
  "language_info": {
   "codemirror_mode": {
    "name": "ipython",
    "version": 3
   },
   "file_extension": ".py",
   "mimetype": "text/x-python",
   "name": "python",
   "nbconvert_exporter": "python",
   "pygments_lexer": "ipython3",
   "version": "3.7.0"
  }
 },
 "nbformat": 4,
 "nbformat_minor": 2
}
